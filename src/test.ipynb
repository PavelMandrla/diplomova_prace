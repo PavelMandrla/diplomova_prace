{
 "cells": [
  {
   "cell_type": "code",
   "execution_count": null,
   "id": "60ac0d0c-ed16-4b13-b062-291f96298bc9",
   "metadata": {},
   "outputs": [],
   "source": [
    "from models.model import MyModel\n",
    "from datasets.fdst import FDST\n",
    "from torch.utils.data import DataLoader\n",
    "from testing.utils import *"
   ]
  },
  {
   "cell_type": "code",
   "execution_count": null,
   "id": "aa3b9121-b35c-46e0-95a5-48760b87963a",
   "metadata": {},
   "outputs": [],
   "source": [
    "model_path = './trained_models/len2_stride1.tar'\n",
    "dataset_path = '../datasets/our_dataset'\n",
    "input_size = (1920, 1080)"
   ]
  },
  {
   "cell_type": "code",
   "execution_count": null,
   "id": "7df34ed2-398f-408d-942b-2ca199480a33",
   "metadata": {},
   "outputs": [],
   "source": [
    "device = torch.device('cuda' if torch.cuda.is_available() else 'cpu')\n",
    "model = MyModel(model_path, input_size=input_size).eval().to(device)\n",
    "dataset = FDST(\n",
    "    dataset_path,\n",
    "    training=False,\n",
    "    sequence_len=model.seq_len,\n",
    "    crop_size=input_size,\n",
    "    stride=model.stride,\n",
    "    max_sequence_len=7,\n",
    "    max_stride=5)\n",
    "dataloader = DataLoader(dataset, batch_size=1, shuffle=False, num_workers=1)"
   ]
  },
  {
   "cell_type": "markdown",
   "id": "23df8979-5b7c-415d-82f9-834e436ad5a3",
   "metadata": {},
   "source": [
    "### Ohodnocení datasetu\n",
    "- projde celý dataset a každý snímek ohodnotí\n",
    "- opravdový počet a počet získaný estimátorem jsou uloženy do .csv souboru"
   ]
  },
  {
   "cell_type": "code",
   "execution_count": null,
   "id": "13de9c30-ecd1-461a-86b1-b044c0ed2537",
   "metadata": {},
   "outputs": [],
   "source": [
    "filename = 'counts%f_%f.csv' % (model.seq_len, model.stride)\n",
    "evaluate_dataset(model, dataloader, device, filename)"
   ]
  }
 ],
 "metadata": {
  "kernelspec": {
   "display_name": "Python 3 (ipykernel)",
   "language": "python",
   "name": "python3"
  },
  "language_info": {
   "codemirror_mode": {
    "name": "ipython",
    "version": 3
   },
   "file_extension": ".py",
   "mimetype": "text/x-python",
   "name": "python",
   "nbconvert_exporter": "python",
   "pygments_lexer": "ipython3",
   "version": "3.9.7"
  }
 },
 "nbformat": 4,
 "nbformat_minor": 5
}
